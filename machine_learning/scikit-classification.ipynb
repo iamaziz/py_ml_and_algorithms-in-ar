{
  "cells": [
    {
      "cell_type": "markdown",
      "source": [
        "<div dir=\"rtl\" lang=\"ar\">\n",
        "\n",
        "\n",
        "# مختصر\n",
        "\n",
        "في هذا الشرح العملي نعرض كيف نقوم بتدريب شبكة عصبونية اصطناعية على تمييز الأنواع المختلفة لزهرة الأيريس. لهذا الغرض سنستخدم لغة بايثون مع حزمة مكتبية تسمى (scikit-learn).\n",
        "\n",
        "\n",
        "\n",
        "\n",
        "</div>\n",
        "\n",
        "<hr>\n",
        "<sub>\n",
        "see: neural networks with Scikit-learn\n",
        "</sub>"
      ],
      "metadata": {
        "slideshow": {
          "slide_type": "slide"
        }
      }
    },
    {
      "cell_type": "markdown",
      "source": [
        "# قراءة حزمة البيانات زهرة الآيريس "
      ],
      "metadata": {
        "slideshow": {
          "slide_type": "slide"
        }
      }
    },
    {
      "cell_type": "code",
      "source": [
        "from sklearn import datasets\n",
        "\n",
        "iris = datasets.load_iris()\n",
        "X_iris, y_iris = iris.data, iris.target"
      ],
      "outputs": [],
      "execution_count": 1,
      "metadata": {
        "slideshow": {
          "slide_type": "fragment"
        }
      }
    },
    {
      "cell_type": "markdown",
      "source": [
        "## معاينة البيانات"
      ],
      "metadata": {
        "slideshow": {
          "slide_type": "slide"
        }
      }
    },
    {
      "cell_type": "code",
      "source": [
        "# نلقي نظرة على أول عينه من القياسات ونوعها\n",
        "print(f' قياسات الزهرة \\n{X_iris[0]}\\nالنوع \\n{y_iris[0]}')"
      ],
      "outputs": [
        {
          "output_type": "stream",
          "name": "stdout",
          "text": [
            " قياسات الزهرة \n",
            "[5.1 3.5 1.4 0.2]\n",
            "النوع \n",
            "0\n"
          ]
        }
      ],
      "execution_count": 2,
      "metadata": {
        "slideshow": {
          "slide_type": "fragment"
        }
      }
    },
    {
      "cell_type": "markdown",
      "source": [
        "<div dir=\"rtl\" lang=\"ar\">\n",
        "  \n",
        "# تدريب و أختبار النظام على البيانات\n",
        "\n",
        "في هذا الجزء سنقوم بثلاثة اشياء\n",
        "\n",
        "1 - تقسيم البيانات إلى مجموعتين: مجموعة لتدريب النظام والأخرى لإختبار مدى جودته\n",
        "\n",
        "2 - إنشاء نظام التصنيف الملائم للبيانات\n",
        "\n",
        "3 - تدريب واختبار النظام\n",
        "\n",
        "  \n",
        "</div>"
      ],
      "metadata": {
        "slideshow": {
          "slide_type": "slide"
        }
      }
    },
    {
      "cell_type": "markdown",
      "source": [
        "\n",
        "نقسم البيانات مجموعتين، مجموعة للتدريب والأخرى للإختبار"
      ],
      "metadata": {
        "slideshow": {
          "slide_type": "subslide"
        }
      }
    },
    {
      "cell_type": "code",
      "source": [
        "from sklearn.model_selection import train_test_split\n",
        "X_train, X_test, y_train, y_test = train_test_split(X_iris, y_iris, test_size=0.15, random_state=42)"
      ],
      "outputs": [],
      "execution_count": 3,
      "metadata": {
        "slideshow": {
          "slide_type": "fragment"
        }
      }
    },
    {
      "cell_type": "markdown",
      "source": [
        "الان نقوم بإنشاء نظام التصنيف أو المُصنف "
      ],
      "metadata": {
        "slideshow": {
          "slide_type": "subslide"
        }
      }
    },
    {
      "cell_type": "code",
      "source": [
        "from sklearn import svm\n",
        "clf = svm.SVC(gamma=0.001, C=100.)"
      ],
      "outputs": [],
      "execution_count": 10,
      "metadata": {
        "slideshow": {
          "slide_type": "fragment"
        }
      }
    },
    {
      "cell_type": "markdown",
      "source": [
        "نعطي بيانات التدريب "
      ],
      "metadata": {
        "slideshow": {
          "slide_type": "fragment"
        }
      }
    },
    {
      "cell_type": "code",
      "source": [
        "clf.fit(X_train, y_train)"
      ],
      "outputs": [],
      "execution_count": null,
      "metadata": {
        "slideshow": {
          "slide_type": "fragment"
        }
      }
    },
    {
      "cell_type": "markdown",
      "source": [
        "نختبر جودة المُصنف على بيانات الإختبار"
      ],
      "metadata": {
        "slideshow": {
          "slide_type": "fragment"
        }
      }
    },
    {
      "cell_type": "code",
      "source": [
        "clf.score(X_test, y_test)"
      ],
      "outputs": [
        {
          "output_type": "execute_result",
          "execution_count": 7,
          "data": {
            "text/plain": [
              "1.0"
            ]
          },
          "metadata": {}
        }
      ],
      "execution_count": 7,
      "metadata": {
        "slideshow": {
          "slide_type": "fragment"
        }
      }
    },
    {
      "cell_type": "code",
      "source": [
        "from sklearn import linear_model\n",
        "log = linear_model.LogisticRegression(solver='lbfgs', C=1e5, multi_class='multinomial')\n",
        "log.fit(X_train, y_train)\n",
        "\n",
        "log.score(X_test, y_test)"
      ],
      "outputs": [
        {
          "output_type": "execute_result",
          "execution_count": 13,
          "data": {
            "text/plain": [
              "1.0"
            ]
          },
          "metadata": {}
        }
      ],
      "execution_count": 13,
      "metadata": {}
    },
    {
      "cell_type": "markdown",
      "source": [
        "# تحجيم البيانات"
      ],
      "metadata": {}
    },
    {
      "cell_type": "code",
      "source": [
        "from sklearn.preprocessing import StandardScaler\n",
        "\n",
        "sc = StandardScaler()\n",
        "\n",
        "sc.fit(X_train)\n",
        "\n",
        "X_train_std = sc.transform(X_train)\n",
        "X_test_std = sc.transform(X_test)"
      ],
      "outputs": [],
      "execution_count": 14,
      "metadata": {
        "slideshow": {
          "slide_type": "slide"
        }
      }
    },
    {
      "cell_type": "markdown",
      "source": [
        "# إختبار الشبكة على الجزء المتبقي من البيانات"
      ],
      "metadata": {
        "slideshow": {
          "slide_type": "slide"
        }
      }
    },
    {
      "cell_type": "code",
      "source": [
        "%%HTML\n",
        "<style>.container { width:93%;} div.prompt {display: none;}</style> <!--or display: none -->"
      ],
      "outputs": [
        {
          "output_type": "display_data",
          "data": {
            "text/html": [
              "<style>.container { width:93%;} div.prompt {display: none;}</style> <!--or display: none -->\n"
            ],
            "text/plain": [
              "<IPython.core.display.HTML object>"
            ]
          },
          "metadata": {}
        }
      ],
      "execution_count": 1,
      "metadata": {
        "slideshow": {
          "slide_type": "notes"
        }
      }
    }
  ],
  "metadata": {
    "celltoolbar": "Slideshow",
    "kernelspec": {
      "name": "python3",
      "language": "python",
      "display_name": "Python 3"
    },
    "language_info": {
      "name": "python",
      "version": "3.7.3",
      "mimetype": "text/x-python",
      "codemirror_mode": {
        "name": "ipython",
        "version": 3
      },
      "pygments_lexer": "ipython3",
      "nbconvert_exporter": "python",
      "file_extension": ".py"
    },
    "kernel_info": {
      "name": "python3"
    },
    "nteract": {
      "version": "0.14.2"
    }
  },
  "nbformat": 4,
  "nbformat_minor": 2
}