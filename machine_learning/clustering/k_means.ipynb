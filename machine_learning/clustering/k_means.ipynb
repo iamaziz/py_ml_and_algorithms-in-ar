{
 "cells": [
  {
   "cell_type": "markdown",
   "metadata": {},
   "source": [
    "Related tweet:\n",
    "    https://twitter.com/sassorgsa/status/1138767881192333313"
   ]
  },
  {
   "cell_type": "markdown",
   "metadata": {},
   "source": [
    "<div dir=\"rtl\" lang=\"ar\">لنفرض ان لدينا بيانات عن جميع سكان مدينة الرياض كـ <b>العمر، الوزن، الطول، اللون</b> (دعنا نسميها بالـ <b>خصائص</b> أو الأبعاد). ونرغب في تقسيم هذه البيانات إلى عدة مجموعات بحيث أن كل مجموعة ستحتوي على أشخاص متشابهين (أي يملكون خصائص مشابهة).</div>\n",
    "<br>\n",
    "<div dir=\"rtl\" lang=\"ar\"><b>كيف يمكننا القيام بذلك</b>؟</div>\n",
    "\n",
    "<div dir=\"rtl\" lang=\"ar\"><b>الجواب</b>: يمكننا استخدام <b>خوارزمية التجميع</b></div>\n",
    "\n",
    "\n",
    "# <div dir=\"rtl\" lang=\"ar\">شرح خوارزمية التجميع (أو التصنيف) k-means</div>\n",
    "\n",
    "<div dir=\"rtl\" lang=\"ar\">\n",
    "تستخدم هذه الخوارزمية كثيراً في مجال تعلم الآلة و علم البيانات لتجميع \"تقسيم\" نقاط البيانات المتشابهه (المتقاربة) مع بعضها البعض في عدد معين من المجموعات.\n",
    "</div>\n",
    "\n",
    "<div dir=\"rtl\" lang=\"ar\">\n",
    "في هذا الشرح، ولغرض تبسيط المفهوم:\n",
    "</div>\n",
    "\n",
    "\n",
    "- <div dir=\"rtl\" lang=\"ar\"> سنستخدم عدد صغير من البيانات لشرح كيف تعلم الخوارزمية بالتفصيل.</div>\n",
    "- <div dir=\"rtl\" lang=\"ar\">\n",
    "سنفترض بيانات وهمية لـ <i>الوزن</i> و <i>الطول</i> لعشرة اشخاص فقط. لاحظ <b>خاصيتين</b> فقط بمعنى كل نقطة في مدخلات البيانات ستحتوي على <b>بعدين</b>. عموماً، تنطبق الخوارزمية على أي عدد من الأبعاد.</div>\n",
    "- <div dir=\"rtl\" lang=\"ar\">\n",
    "سنقوم بكتابة الخوارزمية من الصفر بدون إستخدام أي مكتبات برمجية جاهزة و حتى بدون إستخدام أي `import` من بايثون.</div>\n",
    "\n",
    "> <div dir=\"rtl\" lang=\"ar\"> ملاحظة: يمكن للبيانات أن تكون عن أي شي معين و يمكن ان تحتوي على اكثر من بعد او خاصية، مثلاً: بيانات مرضى، أو قياسات درجات حرارة، أو أسعار اسهم، وغيرها\n",
    "</div>\n",
    "\n",
    "<hr>"
   ]
  },
  {
   "cell_type": "markdown",
   "metadata": {},
   "source": [
    "<div dir=\"rtl\" lang=\"ar\">\n",
    "دعنا أولاً نبداً بـ بيانات الطول و الوزن للعشرة أشخاص، كالتالي: \n",
    "\n",
    "</div>"
   ]
  },
  {
   "cell_type": "code",
   "execution_count": 1,
   "metadata": {
    "collapsed": false,
    "inputHidden": false,
    "outputHidden": false
   },
   "outputs": [],
   "source": [
    "weights = [74, 77, 81, 76, 80, 91, 88, 93, 88, 92]           # الوزن بالكيلوغرام\n",
    "heights = [179, 182, 181, 175, 174, 182, 178, 178, 174, 173] # الطول بالسنتيمتر"
   ]
  },
  {
   "cell_type": "markdown",
   "metadata": {},
   "source": [
    "<div dir=\"rtl\" lang=\"ar\">\n",
    "<meta charset=\"utf-8\">\n",
    "\n",
    "لنصور البيانات بشكل افضل، سنتعرضها في الرسم البياني التالي:\n",
    "  \n",
    "</div>"
   ]
  },
  {
   "cell_type": "code",
   "execution_count": 2,
   "metadata": {
    "collapsed": false,
    "inputHidden": false,
    "outputHidden": false
   },
   "outputs": [
    {
     "data": {
      "image/png": "[encoded data removed]",
      "text/plain": [
       "<Figure size 432x288 with 1 Axes>"
      ]
     },
     "metadata": {
      "needs_background": "light"
     },
     "output_type": "display_data"
    }
   ],
   "source": [
    "# أمر خاص بالنوتبوك لعرض الرسوم البيانية هنا مباشرة\n",
    "%matplotlib inline\n",
    "import matplotlib.pyplot as plt        # نستدعي مكتبة الرسوم البيانية\n",
    "plt.scatter(weights, heights);         # نعطيها بيانات الطول و الوزن"
   ]
  },
  {
   "cell_type": "markdown",
   "metadata": {},
   "source": [
    "<div dir=\"rtl\" lang=\"ar\">\n",
    "<meta charset=\"utf-8\">\n",
    "من اجل تسهيل كتابة الكود، سنضع البيانات في متغير واحد. نسميه الأمثلة. كما يلي:\n",
    "\n",
    "</div>"
   ]
  },
  {
   "cell_type": "code",
   "execution_count": 3,
   "metadata": {},
   "outputs": [
    {
     "data": {
      "text/plain": [
       "[[74, 179],\n",
       " [77, 182],\n",
       " [81, 181],\n",
       " [76, 175],\n",
       " [80, 174],\n",
       " [91, 182],\n",
       " [88, 178],\n",
       " [93, 178],\n",
       " [88, 174],\n",
       " [92, 173]]"
      ]
     },
     "execution_count": 3,
     "metadata": {},
     "output_type": "execute_result"
    }
   ],
   "source": [
    "samples = [list(point) for point in zip(weights, heights)]\n",
    "samples"
   ]
  },
  {
   "cell_type": "markdown",
   "metadata": {},
   "source": [
    "<div dir=\"rtl\" lang=\"ar\">\n",
    "تحتاج خوارزمية التجميع أن تقوم بحساب المسافات بين النقاط، لذلك فيما يلي، سنكتب دالة لحساب المسافة بين نقطتين ما (وهي المسافة العادية، نفس المسافة الناتجة إذا استخدمنا المسطرة). هذي المسافة تسمى المسافة الإقليدية، ويتم حسابها بين نقطين $U=(u_1, u_2, ...,u_n)$ و $V=(v1, v2, ..., v_n)$ بحيث ان $n$ هو عدد الأبعاد في كل نقطة كما يلي: \n",
    "</div>\n",
    "\n",
    "$$\n",
    "\\sqrt{\\left(u_{1}-v_{1}\\right)^{2}+\\left(u_{2}-v_{2}\\right)^{2}+\\cdots+\\left(u_{n}-v_{n}\\right)^{2}}=\\sqrt{\\sum_{i=1}^{n}\\left(u_{i}-v_{i}\\right)^{2}}\n",
    "$$\n",
    "\n",
    "<div dir=\"rtl\" lang=\"ar\">\n",
    "فيما يلي دالة بايثون لحساب المسافة:\n",
    "</div>"
   ]
  },
  {
   "cell_type": "code",
   "execution_count": 4,
   "metadata": {},
   "outputs": [],
   "source": [
    "def distance(u, v):\n",
    "    \"\"\"\n",
    "    حساب المسافة الإقليدية بين نقطتين\n",
    "    المسافة = square_root( (u0 - v0)^2 + (u1 - v1)^2) )\n",
    "    \n",
    "    u: [int, int], النقطة الأولى\n",
    "    v: [int, int], النقطة الثانية\n",
    "    \"\"\"\n",
    "    sum_ = sum( (u[i] - v[i])**2 for i in range(len(u)) ) # ناتج الجمع اللي تحت الجذر\n",
    "    return sum_**(1/2)                                    # نأخذ الجذر للمجموع"
   ]
  },
  {
   "cell_type": "markdown",
   "metadata": {},
   "source": [
    "<div dir=\"rtl\" lang=\"ar\">\n",
    "سنكتب دالة تأخذ نقطة معينة (لنسميها النقطة الهدف) مع مجموعة نقاط أخرى (لنسميهم نقاط المنتصف)، وترجع النقطة (من نقاط المنتصف) الأقرب إلى النقطة الهدف. كما يلي:\n",
    "\n",
    "</div>"
   ]
  },
  {
   "cell_type": "code",
   "execution_count": 5,
   "metadata": {},
   "outputs": [],
   "source": [
    "def get_closer(target, *args):\n",
    "    \"\"\"\n",
    "    حساب أي النقاط اقرب إلى النقطة الهدف\n",
    "    \n",
    "    target:  [int, int], النقطة الهدف\n",
    "    *args: [[int, int]], مجموعة نقاط \n",
    "    \"\"\"\n",
    "    min_distance = float('inf')\n",
    "    for point in args:\n",
    "        d = distance(point, target)\n",
    "        if d < min_distance:\n",
    "            min_distance = d\n",
    "            closer = point\n",
    "    return closer"
   ]
  },
  {
   "cell_type": "markdown",
   "metadata": {},
   "source": [
    "<div dir=\"rtl\" lang=\"ar\">\n",
    "<meta charset=\"utf-8\">\n",
    "سنحتاج دالة أخرى تقوم بحساب نقطة المنتصف لمجموعة من النقاط، نستطيع كتابتها كما يلي:\n",
    "\n",
    "</div>"
   ]
  },
  {
   "cell_type": "markdown",
   "metadata": {},
   "source": [
    "<div dir=\"rtl\" lang=\"ar\">\n",
    "دالة أخيرة سنحتاجها هي لحساب نقطة المنت\n",
    "</div>"
   ]
  },
  {
   "cell_type": "code",
   "execution_count": 6,
   "metadata": {},
   "outputs": [],
   "source": [
    "def new_centers(*clusters):\n",
    "    \"\"\"\n",
    "    حساب نقطة المنتصف لكل مجموعة من مجاميع المدخلات\n",
    "    \n",
    "    clusters: List[List[[int, int]]], قائمة من مجموعات النقاط\n",
    "    \"\"\"\n",
    "    centers = []\n",
    "    for c in clusters:\n",
    "        n = max(len(c), 1) # avoid division by 0\n",
    "        center = [sum(p[0] for p in c) / n, sum(p[1] for p in c) / n]\n",
    "        centers.append(center)\n",
    "    return centers"
   ]
  },
  {
   "cell_type": "markdown",
   "metadata": {},
   "source": [
    "<div dir=\"rtl\" lang=\"ar\">\n",
    "الآن وبعد أن قمنا بكتابة كل الدوال البرمجية التي تحتاجها خوارزمية التجميع، سنقوم بكتابة الخوارزمية كالآتي:\n",
    "</div>"
   ]
  },
  {
   "cell_type": "code",
   "execution_count": 11,
   "metadata": {},
   "outputs": [],
   "source": [
    "# k-means algorithm 'recursively'\n",
    "def k_means(data, k=2, *seeds):\n",
    "\n",
    "    \n",
    "    # init centroids\n",
    "    seeds = list(seeds) if seeds else [data[i] for i in range(k)]\n",
    "        \n",
    "    # clusters\n",
    "    clusters = [[] for _ in range(k)]\n",
    "    \n",
    "    # add each point to its closest cluster\n",
    "    for point in data:\n",
    "        \n",
    "        # which cluster's center is closest to point\n",
    "        nearest = get_closer(point, *seeds)\n",
    "        \n",
    "        # get the index of the cluster that has its center closest to point\n",
    "        nearest_cluster_index = seeds.index(nearest)\n",
    "        \n",
    "        # append p to that cluster\n",
    "        clusters[nearest_cluster_index].append(point)\n",
    "\n",
    "            \n",
    "    # new centers\n",
    "    new_seeds = new_centers(*clusters)\n",
    "\n",
    "\n",
    "    # return when converge\n",
    "    if seeds == new_seeds:\n",
    "        return clusters, seeds\n",
    "\n",
    "    # if not converge, recurse with new means as the seeds\n",
    "    print(\"ITERATION:\\n\\tstarting centroids: {}\\n\\tnew centroids: {}\".format(seeds, new_seeds))\n",
    "    return k_means(data, k, *new_seeds)"
   ]
  },
  {
   "cell_type": "code",
   "execution_count": 12,
   "metadata": {},
   "outputs": [],
   "source": [
    "# plot and print results\n",
    "def report_result(centers, clusters):\n",
    "    colors = ['b', 'g', 'r', 'c', 'm', 'y', 'k', 'w'] # available colors in matplotlib\n",
    "    n = len(clusters)\n",
    "    colors = colors[:n]\n",
    "    for i, clus, cent, col in zip(range(1, n+1), clusters, centers, colors):\n",
    "        plt.scatter([c[0] for c in clus], [c[1] for c in clus], c=col, label=f\"cluster {i}\")\n",
    "        plt.scatter(cent[0], cent[1], marker=\"x\", label=f\"centroid {i}\")\n",
    "        \n",
    "    plt.grid();plt.legend(bbox_to_anchor = (1, 1));plt.show()"
   ]
  },
  {
   "cell_type": "code",
   "execution_count": 18,
   "metadata": {},
   "outputs": [
    {
     "name": "stdout",
     "output_type": "stream",
     "text": [
      "ITERATION:\n",
      "\tstarting centroids: [[74, 179], [77, 182]]\n",
      "\tnew centroids: [[76.66666666666667, 176.0], [87.14285714285714, 178.28571428571428]]\n",
      "ITERATION:\n",
      "\tstarting centroids: [[76.66666666666667, 176.0], [87.14285714285714, 178.28571428571428]]\n",
      "\tnew centroids: [[77.6, 178.2], [90.4, 177.0]]\n"
     ]
    },
    {
     "data": {
      "image/png": "[encoded data removed]",
      "text/plain": [
       "<Figure size 432x288 with 1 Axes>"
      ]
     },
     "metadata": {
      "needs_background": "light"
     },
     "output_type": "display_data"
    }
   ],
   "source": [
    "clusters, centers = k_means(samples, k=2)\n",
    "report_result(centers, clusters)"
   ]
  },
  {
   "cell_type": "markdown",
   "metadata": {},
   "source": [
    "<div dir=\"rtl\" lang=\"ar\">\n",
    "اخيراً، خلنا نجرب نطلع اكثر من مجموعتين. ثلاث مجموعات مثلاً:\n",
    "</div>"
   ]
  },
  {
   "cell_type": "code",
   "execution_count": 24,
   "metadata": {},
   "outputs": [
    {
     "name": "stdout",
     "output_type": "stream",
     "text": [
      "ITERATION:\n",
      "\tstarting centroids: [[74, 179], [77, 182], [81, 181]]\n",
      "\tnew centroids: [[75.0, 177.0], [77.0, 182.0], [87.57142857142857, 177.14285714285714]]\n",
      "ITERATION:\n",
      "\tstarting centroids: [[75.0, 177.0], [77.0, 182.0], [87.57142857142857, 177.14285714285714]]\n",
      "\tnew centroids: [[76.66666666666667, 176.0], [79.0, 181.5], [90.4, 177.0]]\n"
     ]
    },
    {
     "data": {
      "image/png": "[encoded data removed]",
      "text/plain": [
       "<Figure size 432x288 with 1 Axes>"
      ]
     },
     "metadata": {
      "needs_background": "light"
     },
     "output_type": "display_data"
    }
   ],
   "source": [
    "clusters, centers = k_means(samples, k=3)\n",
    "report_result(centers, clusters)"
   ]
  },
  {
   "cell_type": "markdown",
   "metadata": {},
   "source": [
    "# Try `k_means()` with multiple dimensions"
   ]
  },
  {
   "cell_type": "code",
   "execution_count": 31,
   "metadata": {},
   "outputs": [],
   "source": [
    "from random import randint"
   ]
  },
  {
   "cell_type": "code",
   "execution_count": 54,
   "metadata": {},
   "outputs": [],
   "source": [
    "def random_point(dimension=3):\n",
    "    return [rand(40, 100) for _ in range(dimension)]"
   ]
  },
  {
   "cell_type": "code",
   "execution_count": 55,
   "metadata": {},
   "outputs": [],
   "source": [
    "samples = [random_point() for _ in range(100)]"
   ]
  },
  {
   "cell_type": "code",
   "execution_count": 56,
   "metadata": {},
   "outputs": [
    {
     "name": "stdout",
     "output_type": "stream",
     "text": [
      "ITERATION:\n",
      "\tstarting centroids: [[42, 100, 61], [90, 62, 79], [49, 67, 80]]\n",
      "\tnew centroids: [[56.5, 90.375], [86.25, 68.84615384615384], [54.03125, 61.28125]]\n",
      "ITERATION:\n",
      "\tstarting centroids: [[56.5, 90.375], [86.25, 68.84615384615384], [54.03125, 61.28125]]\n",
      "\tnew centroids: [[58.68181818181818, 90.31818181818181], [86.87755102040816, 68.28571428571429], [54.13793103448276, 57.03448275862069]]\n",
      "ITERATION:\n",
      "\tstarting centroids: [[58.68181818181818, 90.31818181818181], [86.87755102040816, 68.28571428571429], [54.13793103448276, 57.03448275862069]]\n",
      "\tnew centroids: [[59.56521739130435, 90.30434782608695], [87.04166666666667, 67.83333333333333], [54.13793103448276, 57.03448275862069]]\n"
     ]
    }
   ],
   "source": [
    "clusters, centers = k_means(samples, k=3)"
   ]
  }
 ],
 "metadata": {
  "kernel_info": {
   "name": "python3"
  },
  "kernelspec": {
   "display_name": "Python 3",
   "language": "python",
   "name": "python3"
  },
  "language_info": {
   "codemirror_mode": {
    "name": "ipython",
    "version": 3
   },
   "file_extension": ".py",
   "mimetype": "text/x-python",
   "name": "python",
   "nbconvert_exporter": "python",
   "pygments_lexer": "ipython3",
   "version": "3.7.3"
  },
  "nteract": {
   "version": "0.14.3"
  }
 },
 "nbformat": 4,
 "nbformat_minor": 2
}
