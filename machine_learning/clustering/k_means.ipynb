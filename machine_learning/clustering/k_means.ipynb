{
 "cells": [
  {
   "cell_type": "markdown",
   "metadata": {},
   "source": [
    "Related tweet:\n",
    "    https://twitter.com/sassorgsa/status/1138767881192333313"
   ]
  },
  {
   "cell_type": "markdown",
   "metadata": {},
   "source": [
    "<div dir=\"rtl\" lang=\"ar\">\n",
    "\n",
    "لنفرض ان لدينا بيانات عن جميع سكان مدينة الرياض كـ **العمر**، **الوزن**، **الطول**، **اللون** (دعنا نسميها بالـ **خصائص** أو الأبعاد). ونرغب في تقسيم هذه البيانات إلى عدة مجموعات بحيث أن كل مجموعة ستحتوي على أشخاص متشابهين (أي يملكون خصائص مشابهة). \n",
    "\n",
    "**كيف يمكننا القيام بذلك**؟\n",
    "\n",
    "**الجواب**: يمكننا استخدام **خوارزمية التجميع**\n",
    "\n",
    "\n",
    "# شرح خوارزمية التجميع (أو التصنيف) k-means\n",
    "\n",
    "\n",
    "تستخدم هذه الخوارزمية كثيراً في مجال **تعلم الآلة** و **علم البيانات** لتجميع \"تقسيم\" نقاط البيانات المتشابهه (المتقاربة) مع بعضها البعض في عدد معين من المجموعات.\n",
    "\n",
    "\n",
    "في هذا الشرح، ولغرض تبسيط المفهوم:\n",
    "\n",
    "\n",
    "- سنستخدم عدد صغير من البيانات لشرح كيف تعلم الخوارزمية بالتفصيل. \n",
    "- سنفترض بيانات وهمية لـ _الوزن_ و _الطول_ لعشرة اشخاص فقط. لاحظ **خاصيتين** فقط بمعنى كل نقطة في مدخلات البيانات ستحتوي على **بعدين**. عموماً، يمكن تطبيق نفس مفهوم الخوارزمية لأي عدد من الأبعاد.\n",
    "- سنقوم بكتابة الخوارزمية من الصفر بدون إستخدام أي مكتبات برمجية جاهزة.\n",
    "\n",
    "\n",
    ">  ملاحظة: يمكن للبيانات أن تكون عن أي شي معين و يمكن ان تحتوي على اكثر من بعد او خاصية، مثلاً: بيانات مرضى، أو قياسات درجات حرارة، أو أسعار اسهم، وغيرها\n",
    "\n",
    "</div>\n"
   ]
  },
  {
   "cell_type": "markdown",
   "metadata": {},
   "source": [
    "<div dir=\"rtl\" lang=\"ar\">\n",
    "<meta charset=\"utf-8\">\n",
    "\n",
    "دعنا أولاً نبداً بـ بيانات الطول و الوزن للعشرة أشخاص، كالتالي: \n",
    "\n",
    "</div>"
   ]
  },
  {
   "cell_type": "code",
   "execution_count": 1,
   "metadata": {
    "collapsed": false,
    "inputHidden": false,
    "outputHidden": false
   },
   "outputs": [],
   "source": [
    "weights = [74, 77, 81, 76, 80, 91, 88, 93, 88, 92]           # الوزن بالكيلوغرام\n",
    "heights = [179, 182, 181, 175, 174, 182, 178, 178, 174, 173] # الطول بالسنتيمتر"
   ]
  },
  {
   "cell_type": "markdown",
   "metadata": {},
   "source": [
    "<div dir=\"rtl\" lang=\"ar\">\n",
    "<meta charset=\"utf-8\">\n",
    "\n",
    "لنصور البيانات بشكل افضل، سنتعرضها في الرسم البياني التالي:\n",
    "  \n",
    "</div>"
   ]
  },
  {
   "cell_type": "code",
   "execution_count": 3,
   "metadata": {
    "collapsed": false,
    "inputHidden": false,
    "outputHidden": false
   },
   "outputs": [
    {
     "data": {
      "image/png": "[encoded data removed]",
      "text/plain": [
       "<Figure size 432x288 with 1 Axes>"
      ]
     },
     "metadata": {
      "needs_background": "light"
     },
     "output_type": "display_data"
    }
   ],
   "source": [
    "# أمر خاص بالنوتبوك لعرض الرسوم البيانية هنا مباشرة\n",
    "%matplotlib inline\n",
    "import matplotlib.pyplot as plt        # نستدعي مكتبة الرسوم البيانية\n",
    "plt.scatter(weights, heights);         # نعطيها بيانات الطول و الوزن"
   ]
  },
  {
   "cell_type": "markdown",
   "metadata": {},
   "source": [
    "<div dir=\"rtl\" lang=\"ar\">\n",
    "<meta charset=\"utf-8\">\n",
    "من اجل تسهيل كتابة الكود، سنضع البيانات في متغير واحد. نسميه الأمثلة. كما يلي:\n",
    "\n",
    "</div>"
   ]
  },
  {
   "cell_type": "code",
   "execution_count": 4,
   "metadata": {},
   "outputs": [
    {
     "data": {
      "text/plain": [
       "[[74, 179],\n",
       " [77, 182],\n",
       " [81, 181],\n",
       " [76, 175],\n",
       " [80, 174],\n",
       " [91, 182],\n",
       " [88, 178],\n",
       " [93, 178],\n",
       " [88, 174],\n",
       " [92, 173]]"
      ]
     },
     "execution_count": 4,
     "metadata": {},
     "output_type": "execute_result"
    }
   ],
   "source": [
    "samples = [list(point) for point in zip(weights, heights)]\n",
    "samples"
   ]
  },
  {
   "cell_type": "markdown",
   "metadata": {},
   "source": [
    "<div dir=\"rtl\" lang=\"ar\">\n",
    "فيما يلي، راح نكتب دالة لحساب المسافة بين نقطتين (االمسافة العادية، نفس المسافة الناتجة إذا استخدمنا المسطرة). هذي المسافة تسمى المسافة الإقليدية، ويتم حسابها بين نقطين $U=(u_1, u_2, ...,u_n)$ و $V=(v1, v2, ..., v_n)$ بحيث ان $n$ هو عدد الأبعاد في كل نقطة كما يلي: \n",
    "</div>\n",
    "\n",
    "$$\n",
    "\\sqrt{\\left(u_{1}-v_{1}\\right)^{2}+\\left(u_{2}-v_{2}\\right)^{2}+\\cdots+\\left(u_{n}-v_{n}\\right)^{2}}=\\sqrt{\\sum_{i=1}^{n}\\left(u_{i}-v_{i}\\right)^{2}}\n",
    "$$"
   ]
  },
  {
   "cell_type": "code",
   "execution_count": 12,
   "metadata": {},
   "outputs": [],
   "source": [
    "def distance(u, v):\n",
    "    \"\"\"\n",
    "    حساب المسافة الإقليدية بين نقطتين\n",
    "    المسافة = square_root( (u0 - v0)^2 + (u1 - v1)^2) )\n",
    "    \n",
    "    u: [int, int], النقطة الأولى\n",
    "    v: [int, int], النقطة الثانية\n",
    "    \"\"\"\n",
    "    sum_ = sum( (u[i] - v[i])**2 for i in range(len(u)) ) # ناتج الجمع اللي تحت الجذر\n",
    "    return sum_**(1/2)                                    # نأخذ الجذر للمجموع"
   ]
  },
  {
   "cell_type": "code",
   "execution_count": 13,
   "metadata": {},
   "outputs": [
    {
     "name": "stdout",
     "output_type": "stream",
     "text": [
      "[74, 179] [77, 182]\n",
      "4.242640687119285\n"
     ]
    }
   ],
   "source": [
    "# اختبار الدالة\n",
    "u, v = samples[0], samples[1]\n",
    "print(u, v)\n",
    "print(distance(u, v))"
   ]
  },
  {
   "cell_type": "markdown",
   "metadata": {},
   "source": [
    "<div dir=\"rtl\" lang=\"ar\">\n",
    "الآن، سنكتب دالة تأخذ ثلاث نقاط (االنقطة الهدف و نقطتين أخرى) وترجع النقطة (من النقطتين) الأقرب إلى النقطة الهدف. كما يلي:\n",
    "\n",
    "</div>"
   ]
  },
  {
   "cell_type": "code",
   "execution_count": 14,
   "metadata": {},
   "outputs": [],
   "source": [
    "def get_closer(c1, c2, p):\n",
    "    \"\"\"\n",
    "    حساب أي النقطتين اقرب إلى النقطة الهدف\n",
    "    \n",
    "    \n",
    "    c1: [int, int], النقطة الأولى\n",
    "    c2: [int, int], النقطة الثانية\n",
    "    p:  [int, int], النقطة الهدف\n",
    "    \"\"\"\n",
    "    dc1 = distance(c1, p)\n",
    "    dc2 = distance(c2, p)\n",
    "    return c1 if dc1 < dc2 else c2"
   ]
  },
  {
   "cell_type": "code",
   "execution_count": 29,
   "metadata": {},
   "outputs": [
    {
     "name": "stdout",
     "output_type": "stream",
     "text": [
      "[[74, 179], [77, 182], [81, 181]]\n"
     ]
    },
    {
     "data": {
      "text/plain": [
       "[77, 182]"
      ]
     },
     "execution_count": 29,
     "metadata": {},
     "output_type": "execute_result"
    }
   ],
   "source": [
    "target = samples[2]\n",
    "points = [u, v, target]\n",
    "closer = get_closer(*points)\n",
    "print(points)\n",
    "closer"
   ]
  },
  {
   "cell_type": "code",
   "execution_count": 40,
   "metadata": {},
   "outputs": [
    {
     "data": {
      "image/png": "[encoded data removed]",
      "text/plain": [
       "<Figure size 432x288 with 1 Axes>"
      ]
     },
     "metadata": {
      "needs_background": "light"
     },
     "output_type": "display_data"
    }
   ],
   "source": [
    "for p, c, l in zip(points, ['r', 'g', 'b'], ['u', 'target', 'v']):\n",
    "    plt.scatter(*p, color=c, label=l)\n",
    "plt.legend();"
   ]
  },
  {
   "cell_type": "code",
   "execution_count": 16,
   "metadata": {},
   "outputs": [],
   "source": [
    "# Return midpoint between p1 and p2\n",
    "def get_midpoint(p1, p2):\n",
    "    mid = (p1[0] + p2[0])/2, (p1[1] + p2[1])/2\n",
    "    return np.array(mid)\n",
    "\n",
    "\n",
    "# k-means algorithm 'recursively'\n",
    "def cluster(seed1, seed2):\n",
    "\n",
    "    c1 = []\n",
    "    c2 = []\n",
    "    # cluster each data point to its closest seed\n",
    "    for p in all_data:\n",
    "        nearest = get_closer(seed1, seed2, p)\n",
    "        if np.all(seed1 == nearest):\n",
    "            c1.append([p[0],p[1]])\n",
    "        else:\n",
    "            c2.append([p[0],p[1]])\n",
    "    c1, c2 = np.array(c1), np.array(c2)\n",
    "    \n",
    "    # get the new means\n",
    "    m11 = float(\"{0:.2f}\".format(c1[:,0].mean()))\n",
    "    m12 = float(\"{0:.2f}\".format(c1[:,1].mean()))\n",
    "    m21 = float(\"{0:.2f}\".format(c2[:,0].mean()))\n",
    "    m22 = float(\"{0:.2f}\".format(c2[:,1].mean()))\n",
    "    \n",
    "    # update seeds as the new means\n",
    "    c1_seed = np.array([m11, m12])\n",
    "    c2_seed = np.array([m21, m22])\n",
    "\n",
    "    # return when converge\n",
    "    if np.all(seed1 == c1_seed) and np.all(seed2 == c2_seed):\n",
    "        m = np.array([seed1, seed2])\n",
    "        mid = get_midpoint(m[0], m[1])\n",
    "        return c1, c2, m, mid\n",
    "\n",
    "    # if not converge, recurse with new means as the seeds\n",
    "    print(\"ITERATION:\\n\\t\", \"starting seed: {}{} means: {} {}\".format(seed1, seed2, c1_seed, c2_seed))\n",
    "    return cluster(c1_seed, c2_seed)\n",
    "\n",
    "\n",
    "\n",
    "\n",
    "# plot and print results\n",
    "def report_result(seed1, seed2, c1, c2 ,m , mid):\n",
    "    s1 = np.array([seed1, seed2])\n",
    "    print(\"FINAL:\\npair: {}{}\\nmeans: {}{}\\nmid: {}\\ncluster1:{}\\ncluster2:{}\".format(seed1,seed2,m[0],m[1], mid,[c for c in c1],[c for c in c2]))\n",
    "    # plot\n",
    "    plt.scatter(c1[:,0], c1[:,1], c='r', label=\"cluster 1\")\n",
    "    plt.scatter(c2[:,0], c2[:,1], c='b', label=\"cluster 2\")\n",
    "    plt.plot(s1[:,0], s1[:,1], '--g', label=\"starting pair\")\n",
    "    plt.scatter(m.T[0], m.T[1], marker=\"d\", c='y', label=\"means: 1 and 2\")\n",
    "    plt.plot(m.T[0], m.T[1], c='g') # line between means\n",
    "    plt.scatter(mid[0], mid[1], marker='x', label='midpoint')\n",
    "    plt.grid();plt.legend(bbox_to_anchor = (2, 1));plt.show()"
   ]
  }
 ],
 "metadata": {
  "kernel_info": {
   "name": "python3"
  },
  "kernelspec": {
   "display_name": "Python 3",
   "language": "python",
   "name": "python3"
  },
  "language_info": {
   "codemirror_mode": {
    "name": "ipython",
    "version": 3
   },
   "file_extension": ".py",
   "mimetype": "text/x-python",
   "name": "python",
   "nbconvert_exporter": "python",
   "pygments_lexer": "ipython3",
   "version": "3.7.3"
  },
  "nteract": {
   "version": "0.14.3"
  }
 },
 "nbformat": 4,
 "nbformat_minor": 2
}
