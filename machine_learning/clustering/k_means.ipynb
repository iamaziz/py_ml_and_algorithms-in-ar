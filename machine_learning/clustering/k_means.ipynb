{
  "cells": [
    {
      "cell_type": "markdown",
      "source": [
        "<div dir=\"rtl\" lang=\"ar\">\n",
        "\n",
        "لنفرض ان لدينا بيانات عن جميع سكان مدينة الرياض كـ **العمر**، **الوزن**، **الطول**، **اللون** (دعنا نسميها بالـ **خصائص** أو الأبعاد). ونرغب في تقسيم هذه البيانات إلى عدة مجموعات بحيث أن كل مجموعة ستحتوي على أشخاص متشابهين (أي يملكون خصائص مشابهة). \n",
        "\n",
        "**كيف يمكننا القيام بذلك**؟\n",
        "\n",
        "**الجواب**: يمكننا استخدام **خوارزمية التجميع**\n",
        "\n",
        "# شرح خوارزمية التجميع (أو التصنيف) k-means\n",
        "\n",
        "تستخدم هذه الخوارزمية كثيراً في مجال **تعلم الآلة** و **علم البيانات** لتجميع \"تقسيم\" نقاط البيانات المتشابهه (المتقاربة) مع بعضها البعض في عدد معين من المجموعات.\n",
        "\n",
        "\n",
        "<!--\n",
        "الغرض  من الخوارزمية بسيط جداً، **لنفرض** ان لدينا مجموعة \"حزمة\" كبيرة جداً من البيانات (يمكن للبيانات أن تكون عن أي شي معين، مثلاً: بيانات مرضى، أو قياسات درجات حرارة، أو أسعار اسهم، وغيرها) و**نرغب** بتقسيم هذه البيانات إلى مجموعات، بحيث كل مجموعة تحتوي على بيانات مشابهه لبعضها البعض. \n",
        "-->\n",
        "\n",
        "في هذا الشرح، ولغرض تبسيط المفهوم:\n",
        "\n",
        "- سنستخدم عدد صغير من البيانات لشرح كيف تعلم الخوارزمية بالتفصيل. \n",
        "- سنفترض بيانات وهمية لـ _الوزن_ و _الطول_ لعشرة اشخاص فقط. لاحظ **خاصيتين** فقط بمعنى كل نقطة في مدخلات البيانات ستحتوي على **بعدين**. عموماً، يمكن تطبيق نفس مفهوم الخوارزمية لأي عدد من الأبعاد.\n",
        "- سنقوم بكتابة الخوارزمية من الصفر بدون إستخدام أي مكتبات برمجية جاهزة.\n",
        "\n",
        ">  ملاحظة: يمكن للبيانات أن تكون عن أي شي معين و يمكن ان تحتوي على اكثر من بعد او خاصية، مثلاً: بيانات مرضى، أو قياسات درجات حرارة، أو أسعار اسهم، وغيرها\n",
        "\n",
        "</div>\n"
      ],
      "metadata": {}
    },
    {
      "cell_type": "markdown",
      "source": [
        "<div dir=\"rtl\" lang=\"ar\">\n",
        "<meta charset=\"utf-8\">\n",
        "\n",
        "دعنا أولاً نبداً بـ بيانات الطول و الوزن للعشرة أشخاص، كالتالي: \n",
        "\n",
        "</div>"
      ],
      "metadata": {}
    },
    {
      "cell_type": "code",
      "source": [
        "weights = [74, 77, 81, 76, 80, 91, 88, 93, 88, 92]           # الوزن بالكيلوغرام\n",
        "heights = [179, 182, 181, 175, 174, 182, 178, 178, 174, 173] # الطول بالسنتيمتر"
      ],
      "outputs": [],
      "execution_count": 1,
      "metadata": {
        "collapsed": false,
        "outputHidden": false,
        "inputHidden": false
      }
    },
    {
      "cell_type": "markdown",
      "source": [
        "<div dir=\"rtl\" lang=\"ar\">\n",
        "<meta charset=\"utf-8\">\n",
        "\n",
        "لنصور البيانات بشكل افضل، سنتعرضها في الرسم البياني التالي:\n",
        "  \n",
        "</div>"
      ],
      "metadata": {}
    },
    {
      "cell_type": "code",
      "source": [
        "%matplotlib inline              # أمر خاص بالنوتبوك لعرض الرسوم البيانية هنا مباشرة\n",
        "import matplotlib.pyplot as plt # نستدعي مكتبة الرسوم البيانية\n",
        "plt.scatter(weights, heights)   # نعطيها بيانات الطول و الوزن"
      ],
      "outputs": [
        {
          "output_type": "execute_result",
          "execution_count": 2,
          "data": {
            "text/plain": [
              "<matplotlib.collections.PathCollection at 0x10bb99080>"
            ]
          },
          "metadata": {}
        },
        {
          "output_type": "display_data",
          "data": {
            "text/plain": [
              "<Figure size 432x288 with 1 Axes>"
            ],
            "image/png": "[encoded data removed]"
          },
          "metadata": {
            "needs_background": "light"
          }
        }
      ],
      "execution_count": 2,
      "metadata": {
        "collapsed": false,
        "outputHidden": false,
        "inputHidden": false
      }
    }
  ],
  "metadata": {
    "kernel_info": {
      "name": "python3"
    },
    "language_info": {
      "name": "python",
      "version": "3.7.3",
      "mimetype": "text/x-python",
      "codemirror_mode": {
        "name": "ipython",
        "version": 3
      },
      "pygments_lexer": "ipython3",
      "nbconvert_exporter": "python",
      "file_extension": ".py"
    },
    "kernelspec": {
      "name": "python3",
      "language": "python",
      "display_name": "Python 3"
    },
    "nteract": {
      "version": "0.14.3"
    }
  },
  "nbformat": 4,
  "nbformat_minor": 0
}